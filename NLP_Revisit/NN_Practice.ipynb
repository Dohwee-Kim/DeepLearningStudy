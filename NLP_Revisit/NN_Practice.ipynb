{
 "cells": [
  {
   "cell_type": "markdown",
   "id": "3a1ae62a",
   "metadata": {},
   "source": [
    "### Forward Propagation:\n",
    "\n",
    "**Input Layer:**\n",
    "- input features $ x = [x_1, x_2, ... , x_n] $\n",
    "\n",
    "**Hidden Layer:**\n",
    "- Linear Transformation $ z = W_1 \\cdot x + b_1 $\n",
    "- Activation Function (e.g ReLU): $ h = \\text{ReLu}(z) $\n",
    "\n",
    "**Output Layer:**\n",
    "- Linear transformation: $ y = W2 \\cdot h + b2 $\n",
    "- Activation function (e.g., Sigmoid for binary classification: $ \\hat{y} = \\text{Sigmoid}(y) $\n"
   ]
  },
  {
   "cell_type": "code",
   "execution_count": null,
   "id": "3d6ba415",
   "metadata": {},
   "outputs": [],
   "source": []
  }
 ],
 "metadata": {
  "kernelspec": {
   "display_name": "Python 3 (ipykernel)",
   "language": "python",
   "name": "python3"
  },
  "language_info": {
   "codemirror_mode": {
    "name": "ipython",
    "version": 3
   },
   "file_extension": ".py",
   "mimetype": "text/x-python",
   "name": "python",
   "nbconvert_exporter": "python",
   "pygments_lexer": "ipython3",
   "version": "3.11.5"
  }
 },
 "nbformat": 4,
 "nbformat_minor": 5
}
