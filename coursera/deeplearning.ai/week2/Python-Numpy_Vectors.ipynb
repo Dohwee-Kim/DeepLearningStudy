{
 "cells": [
  {
   "cell_type": "code",
   "execution_count": 1,
   "metadata": {},
   "outputs": [],
   "source": [
    "import numpy as np\n",
    "\n",
    "a = np.random.randn(5)  #this creates a data structure (5,) called Rank 1 Array \n",
    "                        #and it does not behave consistently as either a row vector nor a column vector "
   ]
  },
  {
   "cell_type": "code",
   "execution_count": 2,
   "metadata": {},
   "outputs": [
    {
     "name": "stdout",
     "output_type": "stream",
     "text": [
      "[ 1.42871045 -0.43133021  0.09153415  0.32059054  0.99796413]\n"
     ]
    }
   ],
   "source": [
    "print(a)"
   ]
  },
  {
   "cell_type": "code",
   "execution_count": 3,
   "metadata": {},
   "outputs": [
    {
     "name": "stdout",
     "output_type": "stream",
     "text": [
      "(5,)\n"
     ]
    }
   ],
   "source": [
    "print(a.shape)\n",
    "#this one is called rank 1 array in Python "
   ]
  },
  {
   "cell_type": "code",
   "execution_count": 4,
   "metadata": {},
   "outputs": [
    {
     "name": "stdout",
     "output_type": "stream",
     "text": [
      "[ 1.42871045 -0.43133021  0.09153415  0.32059054  0.99796413]\n"
     ]
    }
   ],
   "source": [
    "print(a.T)"
   ]
  },
  {
   "cell_type": "code",
   "execution_count": 5,
   "metadata": {},
   "outputs": [
    {
     "name": "stdout",
     "output_type": "stream",
     "text": [
      "3.3343485082892625\n"
     ]
    }
   ],
   "source": [
    "print(np.dot(a,a.T))  \n",
    "#strange huh ? "
   ]
  },
  {
   "cell_type": "code",
   "execution_count": 6,
   "metadata": {},
   "outputs": [
    {
     "name": "stdout",
     "output_type": "stream",
     "text": [
      "[[0.38036834]\n",
      " [0.60658247]\n",
      " [0.18876522]\n",
      " [0.65641477]\n",
      " [0.03469646]]\n"
     ]
    }
   ],
   "source": [
    "a= np.random.rand(5,1)\n",
    "print(a)"
   ]
  },
  {
   "cell_type": "code",
   "execution_count": 7,
   "metadata": {},
   "outputs": [
    {
     "name": "stdout",
     "output_type": "stream",
     "text": [
      "[[0.14468008 0.23072477 0.07180031 0.2496794  0.01319744]\n",
      " [0.23072477 0.36794229 0.11450167 0.39816969 0.02104626]\n",
      " [0.07180031 0.11450167 0.03563231 0.12390828 0.00654949]\n",
      " [0.2496794  0.39816969 0.12390828 0.43088034 0.02277527]\n",
      " [0.01319744 0.02104626 0.00654949 0.02277527 0.00120384]]\n"
     ]
    }
   ],
   "source": [
    "print(np.dot(a,a.T))"
   ]
  },
  {
   "cell_type": "code",
   "execution_count": null,
   "metadata": {},
   "outputs": [],
   "source": [
    "#now we got matrix result "
   ]
  }
 ],
 "metadata": {
  "kernelspec": {
   "display_name": "Python 3",
   "language": "python",
   "name": "python3"
  },
  "language_info": {
   "codemirror_mode": {
    "name": "ipython",
    "version": 3
   },
   "file_extension": ".py",
   "mimetype": "text/x-python",
   "name": "python",
   "nbconvert_exporter": "python",
   "pygments_lexer": "ipython3",
   "version": "3.6.5"
  }
 },
 "nbformat": 4,
 "nbformat_minor": 2
}
